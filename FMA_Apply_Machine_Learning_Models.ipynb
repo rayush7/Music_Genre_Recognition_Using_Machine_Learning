{
 "cells": [
  {
   "cell_type": "markdown",
   "metadata": {},
   "source": [
    "## Apply Basic Machine Learning Models"
   ]
  },
  {
   "cell_type": "code",
   "execution_count": 1,
   "metadata": {},
   "outputs": [
    {
     "name": "stderr",
     "output_type": "stream",
     "text": [
      "/home/ayush/anaconda2/lib/python2.7/site-packages/sklearn/utils/fixes.py:313: FutureWarning: numpy not_equal will not check object identity in the future. The comparison did not return the same result as suggested by the identity (`is`)) and will change.\n",
      "  _nan_object_mask = _nan_object_array != _nan_object_array\n"
     ]
    }
   ],
   "source": [
    "import pandas as pd\n",
    "import numpy as np\n",
    "from sklearn import tree\n",
    "import sys\n",
    "from sklearn import preprocessing\n",
    "from sklearn.model_selection import train_test_split\n",
    "from sklearn.metrics import accuracy_score\n",
    "from sklearn.preprocessing import MinMaxScaler\n",
    "from sklearn.ensemble import RandomForestClassifier\n",
    "from sklearn.metrics import confusion_matrix\n",
    "import matplotlib.pyplot as plt\n",
    "import itertools\n",
    "from sklearn.svm import SVC\n",
    "from sklearn.svm import NuSVC\n",
    "from sklearn.ensemble import GradientBoostingClassifier\n",
    "from sklearn.ensemble import AdaBoostClassifier\n",
    "from sklearn.ensemble import VotingClassifier\n",
    "from sklearn.naive_bayes import GaussianNB\n",
    "from sklearn.ensemble import ExtraTreesClassifier\n",
    "from sklearn.svm import LinearSVC\n",
    "from xgboost import XGBClassifier\n",
    "from sklearn.linear_model import LogisticRegression\n",
    "from sklearn.metrics import roc_curve, auc, f1_score\n",
    "from sklearn.model_selection import StratifiedKFold\n",
    "from sklearn.model_selection import GridSearchCV\n",
    "from sklearn.model_selection import RandomizedSearchCV\n",
    "nsplit = 3"
   ]
  },
  {
   "cell_type": "markdown",
   "metadata": {},
   "source": [
    "### Load the Dataset"
   ]
  },
  {
   "cell_type": "code",
   "execution_count": 3,
   "metadata": {},
   "outputs": [],
   "source": [
    "librosa_fma_small_data = pd.read_csv('librosa_fma_small_data.csv',header=0,sep=',')\n",
    "librosa_fma_small_data = librosa_fma_small_data.reset_index(drop=True)\n",
    "librosa_fma_small_data = librosa_fma_small_data.dropna()"
   ]
  },
  {
   "cell_type": "markdown",
   "metadata": {},
   "source": [
    "### Checking for Null Values"
   ]
  },
  {
   "cell_type": "code",
   "execution_count": 4,
   "metadata": {},
   "outputs": [
    {
     "data": {
      "text/plain": [
       "False"
      ]
     },
     "execution_count": 4,
     "metadata": {},
     "output_type": "execute_result"
    }
   ],
   "source": [
    "librosa_fma_small_data.isnull().values.any()"
   ]
  },
  {
   "cell_type": "markdown",
   "metadata": {},
   "source": [
    "### Separating the Labels"
   ]
  },
  {
   "cell_type": "code",
   "execution_count": 5,
   "metadata": {},
   "outputs": [
    {
     "name": "stdout",
     "output_type": "stream",
     "text": [
      "Parent_Title_List Size 8\n",
      "['Hip-Hop', 'Pop', 'Folk', 'Experimental', 'Rock', 'International', 'Electronic', 'Instrumental'] [21.0, 10.0, 17.0, 38.0, 12.0, 2.0, 15.0, 1235.0]\n",
      "Number of Parent Genres in FMA Small:  8\n"
     ]
    }
   ],
   "source": [
    "def remove_duplicate(seq):\n",
    "    seen = set()\n",
    "    seen_add = seen.add\n",
    "    return [x for x in seq if not (x in seen or seen_add(x))]\n",
    "\n",
    "fma_small_parent_genre_id = librosa_fma_small_data['parent_genre_id']\n",
    "fma_small_parent_genre_title = librosa_fma_small_data['parent_genre_title']\n",
    "\n",
    "fma_small_parent_genre_title_no_duplicate = remove_duplicate(fma_small_parent_genre_title)\n",
    "\n",
    "print 'Parent_Title_List Size', len(fma_small_parent_genre_title_no_duplicate)\n",
    "print fma_small_parent_genre_title_no_duplicate, remove_duplicate(fma_small_parent_genre_id)\n",
    "\n",
    "#Calculating the total number of Genres in FMA Small\n",
    "print 'Number of Parent Genres in FMA Small: ', len(set(fma_small_parent_genre_title))\n",
    "\n",
    "# Dropping Parents_genre_title, parent_genre_id, track_id\n",
    "librosa_fma_small_data = librosa_fma_small_data.drop(['parent_genre_title','parent_genre_id','track_id'],axis=1)"
   ]
  },
  {
   "cell_type": "code",
   "execution_count": 6,
   "metadata": {},
   "outputs": [
    {
     "name": "stdout",
     "output_type": "stream",
     "text": [
      "(8000, 518)\n"
     ]
    }
   ],
   "source": [
    "print librosa_fma_small_data.shape"
   ]
  },
  {
   "cell_type": "markdown",
   "metadata": {},
   "source": [
    "### Applying ML Methods\n",
    "\n",
    "#### Note: Here we are creating training dataset (80%), validation (10%), test dataset(10%)"
   ]
  },
  {
   "cell_type": "code",
   "execution_count": 7,
   "metadata": {},
   "outputs": [],
   "source": [
    "# Apply Data Preprocessing\n",
    "def apply_data_split_preprocessing(raw_dataset,labels):\n",
    "\n",
    "    # Perform Basic Preprocessing and Train, Validation Split\n",
    "    X_train, X_test, y_train, y_test = train_test_split(raw_dataset,labels,test_size=0.10,random_state=42,stratify=labels)\n",
    "    \n",
    "    X_train, X_val, y_train, y_val = train_test_split(X_train,y_train,test_size=0.10,random_state=30,stratify=y_train)\n",
    "    \n",
    "    # Apply Basic Preprocessing Steps\n",
    "\n",
    "    print 'Applying Data Preprocessing'\n",
    "\n",
    "    min_max_scaler = preprocessing.MinMaxScaler()\n",
    "    X_train_minmax = min_max_scaler.fit_transform(X_train)\n",
    "    X_val_minmax = min_max_scaler.transform(X_val)\n",
    "    X_test_minmax = min_max_scaler.transform(X_test)\n",
    "\n",
    "    return X_train_minmax, X_val_minmax, X_test_minmax ,y_train, y_val ,y_test\n",
    "\n",
    "\n",
    "#-----------------------------------------------------------------------------------------------------------\n",
    "\n",
    "def apply_logistic_regression(X_train_preprocessed, X_test_preprocessed, y_train, y_test,class_names_list):\n",
    "    \n",
    "    print 'Applying Logistic Regression'\n",
    "\n",
    "    # Training the classifier\n",
    "    classifier = LogisticRegression()\n",
    "    classifier = classifier.fit(X_train_preprocessed,y_train)\n",
    "\n",
    "    # Testing the classifier on Test Data\n",
    "    y_test_pred = classifier.predict(X_test_preprocessed)\n",
    "\n",
    "    #Compute Accuracy Score\n",
    "    acc = accuracy_score(y_test,y_test_pred,normalize=True)\n",
    "    print 'The accuracy achieved by the Logistic Regression Classifier Model is: ', acc\n",
    "    \n",
    "    #Compute F1 Score\n",
    "    f1score = f1_score(y_test, y_test_pred,average='weighted')\n",
    "    print 'The F1 Score achieved by the Logistic Rgeression Classifier Model is:', f1score\n",
    "    \n",
    "    #Compute Area Under ROC Curve\n",
    "    #fpr, tpr, thresholds = roc_curve(y_test_pred, y_test)\n",
    "    #roc_auc = auc(fpr, tpr)\n",
    "    #print 'The ROC Curve for Logistic Regression Classifier Model is:', roc_auc\n",
    "    # Computing Confusion Matrix\n",
    "    cnf_matrix = confusion_matrix(y_test, y_test_pred)\n",
    "    #print cnf_matrix\n",
    "    np.set_printoptions(precision=2)\n",
    "\n",
    "    # Plot non-normalized confusion matrix\n",
    "    #plt.figure()\n",
    "    #plot_confusion_matrix(cnf_matrix, target_names=class_names_list,title='Confusion matrix, without normalization')\n",
    "\n",
    "    # Plot normalized confusion matrix\n",
    "    plt.figure()\n",
    "    plot_confusion_matrix(cnf_matrix, target_names=class_names_list, normalize=True, title='Normalized confusion matrix')\n",
    "\n",
    "#-----------------------------------------------------------------------------------------------------------\n",
    "# Apply Decision_Tree\n",
    "\n",
    "def apply_decision_tree(X_train_preprocessed, X_test_preprocessed, y_train, y_test,class_names_list):\n",
    "\n",
    "    print 'Applying Decision Tree Classifier'\n",
    "\n",
    "    # Training the classifier\n",
    "    clf = tree.DecisionTreeClassifier()\n",
    "    clf = clf.fit(X_train_preprocessed, y_train)\n",
    "\n",
    "    # Testing the classifier on Test Data\n",
    "    y_test_pred = clf.predict(X_test_preprocessed) \n",
    "\n",
    "    #Compute Accuracy Score\n",
    "    acc = accuracy_score(y_test,y_test_pred,normalize=True)\n",
    "    print 'The accuracy achieved by the Decision Tree Model is: ', acc\n",
    "    \n",
    "    #Compute F1 Score\n",
    "    f1score = f1_score(y_test, y_test_pred,average='weighted')\n",
    "    print 'The F1 Score achieved by the Decision Tree Model is:', f1score\n",
    "\n",
    "#----------------------------------------------------------------------------------------------------------\n",
    "# Apply Random Forest\n",
    "\n",
    "def apply_random_forest(X_train_preprocessed, X_test_preprocessed, y_train, y_test,class_names_list):\n",
    "\n",
    "    print 'Applying Random Forest'\n",
    "\n",
    "    # Training the classifier\n",
    "    classifier = RandomForestClassifier(n_estimators=100, max_depth=2,random_state=0)\n",
    "    classifier = classifier.fit(X_train_preprocessed,y_train)\n",
    "\n",
    "    # Testing the classifier on Test Data\n",
    "    y_test_pred = classifier.predict(X_test_preprocessed) \n",
    "\n",
    "    #Compute Accuracy Score\n",
    "    acc = accuracy_score(y_test,y_test_pred,normalize=True)\n",
    "    print 'The accuracy achieved by the Random Forest Classifier Model is: ', acc\n",
    "    \n",
    "    #Compute F1 Score\n",
    "    f1score = f1_score(y_test, y_test_pred,average='weighted')\n",
    "    print 'The F1 Score achieved by the Random Forest Classifier Model is:', f1score\n",
    "\n",
    "\n",
    "#-------------------------------------------------------------------------------------------------------------\n",
    "# Apply Multi-Class Support Vector Classification. Make sure for probabilities we use Platts Scaling\n",
    "\n",
    "def apply_multi_class_svc(X_train_preprocessed, X_test_preprocessed, y_train, y_test,class_names_list):\n",
    "\n",
    "    print 'Applying Multi-Class SVC'\n",
    "\n",
    "    clf = SVC(gamma='auto')\n",
    "    clf = clf.fit(X_train_preprocessed,y_train)\n",
    "\n",
    "    # Testing the Classifier on Test Data\n",
    "    y_test_pred = clf.predict(X_test_preprocessed)\n",
    "\n",
    "    #Compute Accuracy Score\n",
    "    acc = accuracy_score(y_test,y_test_pred,normalize=True)\n",
    "    print 'The accuracy achieved by Support Vector Classifier is: ', acc\n",
    "    \n",
    "    #Compute F1 Score\n",
    "    f1score = f1_score(y_test, y_test_pred,average='weighted')\n",
    "    print 'The F1 Score achieved by the Suppport Vector Classifier Model is:', f1score\n",
    "\n",
    "#-------------------------------------------------------------------------------------------------------------\n",
    "\n",
    "# Apply Multi-Class Nu Support Vector Classification. Make sure for probabilities we use Platts Scaling\n",
    "\n",
    "def apply_multi_class_nusvc(X_train_preprocessed, X_test_preprocessed, y_train, y_test,class_names_list):\n",
    "\n",
    "    print 'Applying Multi-Class NuSVC'\n",
    "\n",
    "    clf = NuSVC(gamma='scale',kernel='rbf')\n",
    "    clf = clf.fit(X_train_preprocessed,y_train)\n",
    "\n",
    "    # Testing the Classifier on Test Data\n",
    "    y_test_pred = clf.predict(X_test_preprocessed)\n",
    "\n",
    "    #Compute Accuracy Score\n",
    "    acc = accuracy_score(y_test,y_test_pred,normalize=True)\n",
    "    print 'The accuracy achieved by Nu Support Vector Classifier is: ', acc\n",
    "    \n",
    "    #Compute F1 Score\n",
    "    f1score = f1_score(y_test, y_test_pred,average='weighted')\n",
    "    print 'The F1 Score achieved by the Nu Support Vector Classifier Model is:', f1score\n",
    "    \n",
    "    # Computing Confusion Matrix\n",
    "    cnf_matrix = confusion_matrix(y_test, y_test_pred)\n",
    "    #print cnf_matrix\n",
    "    np.set_printoptions(precision=2)\n",
    "\n",
    "    # Plot non-normalized confusion matrix\n",
    "    #plt.figure()\n",
    "    #plot_confusion_matrix(cnf_matrix, target_names=class_names_list,title='Confusion matrix, without normalization')\n",
    "\n",
    "    # Plot normalized confusion matrix\n",
    "    plt.figure()\n",
    "    plot_confusion_matrix(cnf_matrix, target_names=class_names_list, normalize=True, title='Normalized confusion matrix')\n",
    "\n",
    "#-------------------------------------------------------------------------------------------------------------\n",
    "# Apply Linear SVC\n",
    "\n",
    "def apply_multi_class_linear_svc(X_train_preprocessed, X_test_preprocessed, y_train, y_test,class_names_list):\n",
    "\n",
    "    print 'Applying Multi-Class Linear SVC'\n",
    "\n",
    "    clf = LinearSVC(random_state=0, tol=1e-5)\n",
    "    clf = clf.fit(X_train_preprocessed,y_train)\n",
    "\n",
    "    # Testing the Classifier on Test Data\n",
    "    y_test_pred = clf.predict(X_test_preprocessed)\n",
    "\n",
    "    #Compute Accuracy Score\n",
    "    acc = accuracy_score(y_test,y_test_pred,normalize=True)\n",
    "    print 'The accuracy achieved by Linear Support Vector Classifier is: ', acc\n",
    "    \n",
    "    #Compute F1 Score\n",
    "    f1score = f1_score(y_test, y_test_pred,average='weighted')\n",
    "    print 'The F1 Score achieved by the Linear Support Vector Classifier is:', f1score\n",
    "    \n",
    "    # Computing Confusion Matrix\n",
    "    cnf_matrix = confusion_matrix(y_test, y_test_pred)\n",
    "    #print cnf_matrix\n",
    "    np.set_printoptions(precision=2)\n",
    "\n",
    "    # Plot non-normalized confusion matrix\n",
    "    #plt.figure()\n",
    "    #plot_confusion_matrix(cnf_matrix, target_names=class_names_list,title='Confusion matrix, without normalization')\n",
    "\n",
    "    # Plot normalized confusion matrix\n",
    "    plt.figure()\n",
    "    plot_confusion_matrix(cnf_matrix, target_names=class_names_list, normalize=True, title='Normalized confusion matrix')\n",
    "    \n",
    "#-------------------------------------------------------------------------------------------------------------\n",
    "# Apply Gradient Boosting\n",
    "\n",
    "def apply_gradient_boosting(X_train_preprocessed, X_test_preprocessed, y_train, y_test,class_names_list):\n",
    "\n",
    "    print 'Applying Gradient Boosting'\n",
    "\n",
    "    # Training the classifier\n",
    "    classifier = GradientBoostingClassifier(n_estimators=100)\n",
    "    classifier = classifier.fit(X_train_preprocessed,y_train)\n",
    "    \n",
    "    # Testing the classifier on Test Data\n",
    "    y_test_pred = classifier.predict(X_test_preprocessed)\n",
    "\n",
    "    #Compute Accuracy Score\n",
    "    acc = accuracy_score(y_test,y_test_pred,normalize=True)\n",
    "    print 'The accuracy achieved by the Gradient Boosting Classifier Model is: ', acc\n",
    "    \n",
    "    #Compute F1 Score\n",
    "    f1score = f1_score(y_test, y_test_pred,average='weighted')\n",
    "    print 'The F1 Score achieved by the Gradient Boosting Classifier is:', f1score\n",
    "\n",
    "#-------------------------------------------------------------------------------------------------------------\n",
    "# Apply Adaboost Classifier\n",
    "\n",
    "def apply_adaboost_classifier(X_train_preprocessed, X_test_preprocessed, y_train, y_test,class_names_list):\n",
    "\n",
    "    print 'Applying AdaBoost Classifier'\n",
    "\n",
    "    # Training the classifier\n",
    "    classifier = AdaBoostClassifier(n_estimators=100)\n",
    "    classifier = classifier.fit(X_train_preprocessed,y_train)\n",
    "\n",
    "    # Testing the classifier on Test Data\n",
    "    y_test_pred = classifier.predict(X_test_preprocessed) \n",
    "\n",
    "    #Compute Accuracy Score\n",
    "    acc = accuracy_score(y_test,y_test_pred,normalize=True)\n",
    "    print 'The accuracy achieved by the Adaboost Classifier Model is: ', acc\n",
    "    \n",
    "    #Compute F1 Score\n",
    "    f1score = f1_score(y_test, y_test_pred,average='weighted')\n",
    "    print 'The F1 Score achieved by the Adaboost Classifier Model is:', f1score\n",
    "\n",
    "#-----------------------------------------------------------------------------------------------------------------\n",
    "# Apply Extra Trees\n",
    "\n",
    "def apply_extratree_classifier(X_train_preprocessed, X_test_preprocessed, y_train, y_test,class_names_list):\n",
    "\n",
    "    print 'Applying Extra Tree Classifier'\n",
    "\n",
    "    # Training the classifier\n",
    "    classifier = ExtraTreesClassifier(n_estimators=100)\n",
    "    classifier = classifier.fit(X_train_preprocessed,y_train)\n",
    "\n",
    "    # Testing the classifier on Test Data\n",
    "    y_test_pred = classifier.predict(X_test_preprocessed)\n",
    "\n",
    "    #Compute Accuracy Score\n",
    "    acc = accuracy_score(y_test,y_test_pred,normalize=True)\n",
    "    print 'The accuracy achieved by the Extra Tree Classifier Model is: ', acc\n",
    "    \n",
    "    #Compute F1 Score\n",
    "    f1score = f1_score(y_test, y_test_pred,average='weighted')\n",
    "    print 'The F1 Score achieved by the Extra Tree Classifier Model is:', f1score\n",
    "\n",
    "#------------------------------------------------------------------------------------------------------------------\n",
    "# Apply Gradient Boosting from XgBoost\n",
    "\n",
    "def apply_xgboost_gradient_boosting(X_train_preprocessed, X_test_preprocessed, y_train, y_test,class_names_list):\n",
    "\n",
    "    print 'Applying XGBoost Gradient Boosting'\n",
    "\n",
    "    model = XGBClassifier()\n",
    "    model.fit(X_train_preprocessed, y_train)\n",
    "\n",
    "    y_test_pred_values = model.predict(X_test_preprocessed)\n",
    "    y_test_pred = [round(value) for value in y_test_pred_values]\n",
    "\n",
    "    # Compute Accuracy Score\n",
    "    acc = accuracy_score(y_test,y_test_pred,normalize=True)\n",
    "    print 'The accuracy achieved by the Gradient Boosting Model from XgBoost is: ', acc\n",
    "    \n",
    "    #Compute F1 Score\n",
    "    f1score = f1_score(y_test, y_test_pred,average='weighted')\n",
    "    print 'The F1 Score achieved by the Gradient Boosting Model from XgBoost is:', f1score\n",
    "    \n",
    "    # Computing Confusion Matrix\n",
    "    cnf_matrix = confusion_matrix(y_test, y_test_pred)\n",
    "    #print cnf_matrix\n",
    "    np.set_printoptions(precision=2)\n",
    "\n",
    "    # Plot non-normalized confusion matrix\n",
    "    #plt.figure()\n",
    "    #plot_confusion_matrix(cnf_matrix, target_names=class_names_list,title='Confusion matrix, without normalization')\n",
    "\n",
    "    # Plot normalized confusion matrix\n",
    "    plt.figure()\n",
    "    plot_confusion_matrix(cnf_matrix, target_names=class_names_list, normalize=True, title='Normalized confusion matrix')\n",
    "    \n",
    "#--------------------------------------------------------------------------------------------------------\n",
    "#Plot Confusion Matrix\n",
    "\n",
    "def plot_confusion_matrix(cm,\n",
    "                          target_names,\n",
    "                          title='Confusion matrix',\n",
    "                          cmap=None,\n",
    "                          normalize=True):\n",
    "    \"\"\"\n",
    "    given a sklearn confusion matrix (cm), make a nice plot\n",
    "\n",
    "    Arguments\n",
    "    ---------\n",
    "    cm:           confusion matrix from sklearn.metrics.confusion_matrix\n",
    "\n",
    "    target_names: given classification classes such as [0, 1, 2]\n",
    "                  the class names, for example: ['high', 'medium', 'low']\n",
    "\n",
    "    title:        the text to display at the top of the matrix\n",
    "\n",
    "    cmap:         the gradient of the values displayed from matplotlib.pyplot.cm\n",
    "                  see http://matplotlib.org/examples/color/colormaps_reference.html\n",
    "                  plt.get_cmap('jet') or plt.cm.Blues\n",
    "\n",
    "    normalize:    If False, plot the raw numbers\n",
    "                  If True, plot the proportions\n",
    "\n",
    "    Usage\n",
    "    -----\n",
    "    plot_confusion_matrix(cm           = cm,                  # confusion matrix created by\n",
    "                                                              # sklearn.metrics.confusion_matrix\n",
    "                          normalize    = True,                # show proportions\n",
    "                          target_names = y_labels_vals,       # list of names of the classes\n",
    "                          title        = best_estimator_name) # title of graph\n",
    "\n",
    "    Citiation\n",
    "    ---------\n",
    "    http://scikit-learn.org/stable/auto_examples/model_selection/plot_confusion_matrix.html\n",
    "\n",
    "    \"\"\"\n",
    "\n",
    "    accuracy = np.trace(cm) / float(np.sum(cm))\n",
    "    misclass = 1 - accuracy\n",
    "\n",
    "    if cmap is None:\n",
    "        cmap = plt.get_cmap('Blues')\n",
    "\n",
    "    plt.figure(figsize=(8, 6))\n",
    "    plt.imshow(cm, interpolation='nearest', cmap=cmap)\n",
    "    plt.title(title)\n",
    "    #plt.colorbar()\n",
    "\n",
    "    if target_names is not None:\n",
    "        tick_marks = np.arange(len(target_names))\n",
    "        plt.xticks(tick_marks, target_names, rotation=45)\n",
    "        plt.yticks(tick_marks, target_names)\n",
    "\n",
    "    if normalize:\n",
    "        cm = cm.astype('float') / cm.sum(axis=1)[:, np.newaxis]\n",
    "\n",
    "\n",
    "    thresh = cm.max() / 1.5 if normalize else cm.max() / 2\n",
    "    for i, j in itertools.product(range(cm.shape[0]), range(cm.shape[1])):\n",
    "        if normalize:\n",
    "            plt.text(j, i, \"{:0.4f}\".format(cm[i, j]),\n",
    "                     horizontalalignment=\"center\",\n",
    "                     color=\"white\" if cm[i, j] > thresh else \"black\")\n",
    "        else:\n",
    "            plt.text(j, i, \"{:,}\".format(cm[i, j]),\n",
    "                     horizontalalignment=\"center\",\n",
    "                     color=\"white\" if cm[i, j] > thresh else \"black\")\n",
    "\n",
    "\n",
    "    plt.tight_layout()\n",
    "    plt.ylabel('True label')\n",
    "    plt.xlabel('Predicted label\\naccuracy={:0.4f}; misclass={:0.4f}'.format(accuracy, misclass))\n",
    "    plt.savefig('./confusion_matrix.png')\n"
   ]
  },
  {
   "cell_type": "code",
   "execution_count": 8,
   "metadata": {},
   "outputs": [
    {
     "name": "stdout",
     "output_type": "stream",
     "text": [
      "(8000, 518)\n"
     ]
    }
   ],
   "source": [
    "librosa_fma_small_data_array = librosa_fma_small_data.values\n",
    "print librosa_fma_small_data_array.shape\n",
    "\n",
    "#print remove_duplicate(list(fma_small_parent_genre_id))"
   ]
  },
  {
   "cell_type": "markdown",
   "metadata": {},
   "source": [
    "#### Data Preprocessing and Splitting"
   ]
  },
  {
   "cell_type": "code",
   "execution_count": 9,
   "metadata": {},
   "outputs": [
    {
     "name": "stdout",
     "output_type": "stream",
     "text": [
      "Applying Data Preprocessing\n"
     ]
    },
    {
     "name": "stderr",
     "output_type": "stream",
     "text": [
      "/home/ayush/anaconda2/lib/python2.7/site-packages/sklearn/utils/validation.py:590: DataConversionWarning: Data with input dtype object was converted to float64 by MinMaxScaler.\n",
      "  warnings.warn(msg, DataConversionWarning)\n"
     ]
    },
    {
     "name": "stdout",
     "output_type": "stream",
     "text": [
      "Training Dataset Size:  (6480, 518) (6480,)\n",
      "Validation Dataset Size:  (720, 518) (720,)\n",
      "Testing Dataset Size:  (800, 518) (800,)\n"
     ]
    }
   ],
   "source": [
    "# Preprocess data\n",
    "X_train_preprocessed, X_val_preprocessed ,X_test_preprocessed, y_train, y_val ,y_test = apply_data_split_preprocessing(librosa_fma_small_data_array,fma_small_parent_genre_id)\n",
    "\n",
    "print 'Training Dataset Size: ', X_train_preprocessed.shape, y_train.shape\n",
    "print 'Validation Dataset Size: ', X_val_preprocessed.shape, y_val.shape\n",
    "print 'Testing Dataset Size: ', X_test_preprocessed.shape, y_test.shape"
   ]
  },
  {
   "cell_type": "markdown",
   "metadata": {},
   "source": [
    "### Training and Testing the Classifiers"
   ]
  },
  {
   "cell_type": "code",
   "execution_count": 27,
   "metadata": {},
   "outputs": [
    {
     "name": "stdout",
     "output_type": "stream",
     "text": [
      "Applying Logistic Regression\n"
     ]
    },
    {
     "name": "stderr",
     "output_type": "stream",
     "text": [
      "/home/ayush/anaconda2/lib/python2.7/site-packages/sklearn/linear_model/logistic.py:432: FutureWarning: Default solver will be changed to 'lbfgs' in 0.22. Specify a solver to silence this warning.\n",
      "  FutureWarning)\n",
      "/home/ayush/anaconda2/lib/python2.7/site-packages/sklearn/linear_model/logistic.py:459: FutureWarning: Default multi_class will be changed to 'auto' in 0.22. Specify the multi_class option to silence this warning.\n",
      "  \"this warning.\", FutureWarning)\n"
     ]
    },
    {
     "name": "stdout",
     "output_type": "stream",
     "text": [
      "The accuracy achieved by the Logistic Regression Classifier Model is:  0.593055555556\n",
      "The F1 Score achieved by the Logistic Rgeression Classifier Model is: 0.58822506924\n"
     ]
    },
    {
     "data": {
      "text/plain": [
       "<Figure size 432x288 with 0 Axes>"
      ]
     },
     "metadata": {},
     "output_type": "display_data"
    },
    {
     "data": {
      "image/png": "[encoded data removed]",
      "text/plain": [
       "<Figure size 576x432 with 1 Axes>"
      ]
     },
     "metadata": {
      "needs_background": "light"
     },
     "output_type": "display_data"
    }
   ],
   "source": [
    "#Apply Logistic Regression\n",
    "#apply_logistic_regression(X_train_preprocessed,X_val_preprocessed,y_train,y_val,fma_small_parent_genre_title_no_duplicate)\n",
    "\n",
    "# Apply Decision Tree\n",
    "#apply_decision_tree(X_train_preprocessed,X_val_preprocessed,y_train,y_val,fma_small_parent_genre_title_no_duplicate)\n",
    "\n",
    "# Apply Random Forest\n",
    "#apply_random_forest(X_train_preprocessed,X_val_preprocessed,y_train,y_val,fma_small_parent_genre_title_no_duplicate)\n",
    "\n",
    "# Apply MultiClass SVC\n",
    "#apply_multi_class_svc(X_train_preprocessed,X_val_preprocessed,y_train,y_val,fma_small_parent_genre_title_no_duplicate)\n",
    "\n",
    "#Apply MultiClass NuSVC\n",
    "#apply_multi_class_nusvc(X_train_preprocessed, X_val_preprocessed, y_train, y_val,fma_small_parent_genre_title_no_duplicate)\n",
    "\n",
    "# Apply Gradient Boosting\n",
    "#apply_gradient_boosting(X_train_preprocessed,X_val_preprocessed,y_train,y_val,fma_small_parent_genre_title_no_duplicate)\n",
    "\n",
    "# Apply Adaboost Classifier\n",
    "#apply_adaboost_classifier(X_train_preprocessed,X_val_preprocessed,y_train,y_val,fma_small_parent_genre_title_no_duplicate)\n",
    "\n",
    "# Apply Extra Trees\n",
    "#apply_extratree_classifier(X_train_preprocessed,X_val_preprocessed,y_train,y_val,fma_small_parent_genre_title_no_duplicate)\n",
    "\n",
    "# Apply Linear SVC\n",
    "#apply_multi_class_linear_svc(X_train_preprocessed,X_val_preprocessed,y_train,y_val,fma_small_parent_genre_title_no_duplicate)\n",
    "\n",
    "# Apply Gradient Boosting from XgBoost\n",
    "#apply_xgboost_gradient_boosting(X_train_preprocessed, X_val_preprocessed, y_train, y_val,fma_small_parent_genre_title_no_duplicate)"
   ]
  },
  {
   "cell_type": "markdown",
   "metadata": {},
   "source": [
    "### Stratified 5 Fold Cross Validation with XgBoost with Grid Search"
   ]
  },
  {
   "cell_type": "code",
   "execution_count": null,
   "metadata": {},
   "outputs": [],
   "source": [
    "def apply_stratified_kfold_crossval_xgboost_grid_search(X_train_preprocessed,train_targets,nsplit):\n",
    "\n",
    "    print 'Apply Stratified Cross Validation and Grid Search'\n",
    "\n",
    "    parameter_grid = {\n",
    "        'min_child_weight': [1, 5, 10],\n",
    "        'gamma': [0.5, 1, 1.5, 2, 5],\n",
    "        'subsample': [0.6, 0.8, 1.0],\n",
    "        'colsample_bytree': [0.6, 0.8, 1.0],\n",
    "        'max_depth': [3, 4, 5]\n",
    "        }\n",
    "\n",
    "    xgb = XGBClassifier(learning_rate=0.02, n_estimators=600, objective='binary:logistic',\n",
    "                    silent=True, nthread=1)\n",
    "\n",
    "    cross_validation = StratifiedKFold(n_splits=nsplit)\n",
    "\n",
    "    grid_search = GridSearchCV(xgb,\n",
    "                              scoring='accuracy',\n",
    "                              param_grid=parameter_grid,\n",
    "                              cv=cross_validation,\n",
    "                              verbose=1\n",
    "                             )\n",
    "\n",
    "    grid_search.fit(X_train_preprocessed, y_train)\n",
    "    tuned_model = grid_search\n",
    "    parameters = grid_search.best_params_\n",
    "    print('Best score: {}'.format(grid_search.best_score_))\n",
    "    print('Best parameters: {}'.format(grid_search.best_params_))\n",
    "\n",
    "    return tuned_model"
   ]
  },
  {
   "cell_type": "markdown",
   "metadata": {},
   "source": [
    "### Testing the Performance on Test Dataset"
   ]
  },
  {
   "cell_type": "code",
   "execution_count": null,
   "metadata": {},
   "outputs": [],
   "source": [
    "tuned_model_grid = apply_stratified_kfold_crossval_xgboost_grid_search(X_train_preprocessed,y_train,nsplit)"
   ]
  },
  {
   "cell_type": "code",
   "execution_count": null,
   "metadata": {},
   "outputs": [],
   "source": [
    "y_test_pred_values = tuned_model_grid.predict(X_test_preprocessed)\n",
    "y_test_pred = [round(value) for value in y_test_pred_values]\n",
    "\n",
    "#Compute Accuracy Score\n",
    "acc = accuracy_score(y_test,y_test_pred,normalize=True)\n",
    "print 'The accuracy achieved by the Tuned Classifier Model is: ', acc\n",
    "    \n",
    "#Compute F1 Score\n",
    "f1score = f1_score(y_test, y_test_pred,average='weighted')\n",
    "print 'The F1 Score achieved by the Tuned Classifier Model is:', f1score"
   ]
  },
  {
   "cell_type": "markdown",
   "metadata": {},
   "source": [
    "### Stratified 5 Fold Cross Validation with XgBoost with Randomized Search"
   ]
  },
  {
   "cell_type": "code",
   "execution_count": 10,
   "metadata": {},
   "outputs": [],
   "source": [
    "def apply_stratified_kfold_crossval_xgboost_random_search(X_train_preprocessed,train_targets,nsplit):\n",
    "\n",
    "    print 'Apply Stratified Cross Validation and Random Search'\n",
    "\n",
    "    parameter_dist = {\n",
    "        'min_child_weight': [1, 5, 10],\n",
    "        'gamma': [0.5, 1, 1.5, 2, 5],\n",
    "        'subsample': [0.6, 0.8, 1.0],\n",
    "        'colsample_bytree': [0.6, 0.8, 1.0],\n",
    "        'max_depth': [3, 4]\n",
    "        }\n",
    "\n",
    "    xgb = XGBClassifier(learning_rate=0.02, n_estimators=100, objective='binary:logistic',\n",
    "                    silent=True, nthread=1)\n",
    "\n",
    "    cross_validation = StratifiedKFold(n_splits=nsplit)\n",
    "\n",
    "    random_search = RandomizedSearchCV(xgb,\n",
    "                              scoring='accuracy',\n",
    "                              param_distributions=parameter_dist,\n",
    "                              cv=cross_validation,\n",
    "                              verbose=1\n",
    "                             )\n",
    "\n",
    "    random_search.fit(X_train_preprocessed, y_train)\n",
    "    tuned_model = random_search\n",
    "    parameters = random_search.best_params_\n",
    "    print('Best score: {}'.format(random_search.best_score_))\n",
    "    print('Best parameters: {}'.format(random_search.best_params_))\n",
    "\n",
    "    return tuned_model"
   ]
  },
  {
   "cell_type": "markdown",
   "metadata": {},
   "source": [
    "### Testing the Performance"
   ]
  },
  {
   "cell_type": "code",
   "execution_count": 11,
   "metadata": {},
   "outputs": [
    {
     "name": "stdout",
     "output_type": "stream",
     "text": [
      "Apply Stratified Cross Validation and Random Search\n",
      "Fitting 3 folds for each of 10 candidates, totalling 30 fits\n"
     ]
    },
    {
     "name": "stderr",
     "output_type": "stream",
     "text": [
      "[Parallel(n_jobs=1)]: Using backend SequentialBackend with 1 concurrent workers.\n",
      "[Parallel(n_jobs=1)]: Done  30 out of  30 | elapsed: 23.8min finished\n"
     ]
    },
    {
     "name": "stdout",
     "output_type": "stream",
     "text": [
      "Best score: 0.545679012346\n",
      "Best parameters: {'subsample': 0.6, 'gamma': 2, 'colsample_bytree': 0.6, 'max_depth': 4, 'min_child_weight': 1}\n"
     ]
    }
   ],
   "source": [
    "tuned_model_random = apply_stratified_kfold_crossval_xgboost_random_search(X_train_preprocessed,y_train,nsplit)"
   ]
  },
  {
   "cell_type": "code",
   "execution_count": 12,
   "metadata": {},
   "outputs": [
    {
     "name": "stdout",
     "output_type": "stream",
     "text": [
      "The accuracy achieved by the Tuned Classifier Model is:  0.525\n",
      "The F1 Score achieved by the Tuned Classifier Model is: 0.515420040658\n"
     ]
    }
   ],
   "source": [
    "y_test_pred_values = tuned_model_random.predict(X_test_preprocessed)\n",
    "y_test_pred = [round(value) for value in y_test_pred_values]\n",
    "\n",
    "#Compute Accuracy Score\n",
    "acc = accuracy_score(y_test,y_test_pred,normalize=True)\n",
    "print 'The accuracy achieved by the Tuned Classifier Model is: ', acc\n",
    "    \n",
    "#Compute F1 Score\n",
    "f1score = f1_score(y_test, y_test_pred,average='weighted')\n",
    "print 'The F1 Score achieved by the Tuned Classifier Model is:', f1score"
   ]
  },
  {
   "cell_type": "code",
   "execution_count": null,
   "metadata": {},
   "outputs": [],
   "source": []
  }
 ],
 "metadata": {
  "kernelspec": {
   "display_name": "Python 2",
   "language": "python",
   "name": "python2"
  },
  "language_info": {
   "codemirror_mode": {
    "name": "ipython",
    "version": 2
   },
   "file_extension": ".py",
   "mimetype": "text/x-python",
   "name": "python",
   "nbconvert_exporter": "python",
   "pygments_lexer": "ipython2",
   "version": "2.7.15"
  }
 },
 "nbformat": 4,
 "nbformat_minor": 2
}
