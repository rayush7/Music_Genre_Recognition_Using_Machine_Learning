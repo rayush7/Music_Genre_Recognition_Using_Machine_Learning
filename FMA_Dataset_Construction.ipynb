{
 "cells": [
  {
   "cell_type": "markdown",
   "metadata": {},
   "source": [
    "### Getting Librosa Features for FMA Small Dataset\n",
    "Dataset Link: https://github.com/mdeff/fma \n",
    "\n",
    "### File Paths"
   ]
  },
  {
   "cell_type": "code",
   "execution_count": 1,
   "metadata": {},
   "outputs": [],
   "source": [
    "import numpy as np \n",
    "import pandas as pd\n",
    "import json"
   ]
  },
  {
   "cell_type": "code",
   "execution_count": 7,
   "metadata": {},
   "outputs": [],
   "source": [
    "genres_file = '/home/ayush/FOML_Project/fma_metadata/genres.csv'\n",
    "tracks_file = '/home/ayush/FOML_Project/fma_metadata/tracks.csv'\n",
    "librosa_file = '/home/ayush/FOML_Project/fma_metadata/features.csv'\n",
    "fma_small_track_id_audio_path_file = '/home/ayush/FOML_Project/track_id_to_audio_path_fma_small.csv'"
   ]
  },
  {
   "cell_type": "markdown",
   "metadata": {},
   "source": [
    "### Create Mapping from Genre Title to Genre ID"
   ]
  },
  {
   "cell_type": "code",
   "execution_count": 8,
   "metadata": {},
   "outputs": [],
   "source": [
    "def map_genre_title_to_genre_id(genres_file):\n",
    "\n",
    "    genres_data = pd.read_csv(genres_file,delimiter=',',index_col=0,header=0)\n",
    "    genres_data = genres_data.reset_index()\n",
    "\n",
    "    genre_id_list = list(genres_data['genre_id'])\n",
    "    genre_title_list = list(genres_data['title'])\n",
    "\n",
    "    dict_genre_title_to_genre_id = {}\n",
    "\n",
    "    for i in range(len(genre_title_list)):\n",
    "        dict_genre_title_to_genre_id[genre_title_list[i]] = genre_id_list[i]\n",
    "\n",
    "    with open('genre_title_to_genre_id.json', 'w') as fp:\n",
    "        json.dump(dict_genre_title_to_genre_id, fp, sort_keys=True, indent=4)\n",
    "\n",
    "    return dict_genre_title_to_genre_id"
   ]
  },
  {
   "cell_type": "markdown",
   "metadata": {},
   "source": [
    "### Create Mapping from Track ID to Parent Genre Title"
   ]
  },
  {
   "cell_type": "code",
   "execution_count": 9,
   "metadata": {},
   "outputs": [],
   "source": [
    "def map_track_id_to_parent_genre_title(tracks_file):\n",
    "\n",
    "    tracks_data = pd.read_csv(tracks_file,delimiter=',',index_col=0,header=[0,1])\n",
    "\n",
    "    tracks_data = tracks_data.reset_index()\n",
    "\n",
    "    track_id_list = list(tracks_data['track_id'])\n",
    "    parent_genre_title_list = list(tracks_data['track']['genre_top'])\n",
    "\n",
    "    dict_track_id_to_parent_genre_title = {} \n",
    "\n",
    "    for i in range(len(track_id_list)):\n",
    "        dict_track_id_to_parent_genre_title[track_id_list[i]] = parent_genre_title_list[i]\n",
    "\n",
    "    with open('track_id_to_parent_genre_title.json', 'w') as fp:\n",
    "        json.dump(dict_track_id_to_parent_genre_title, fp, sort_keys=True, indent=4)\n",
    "\n",
    "    return dict_track_id_to_parent_genre_title"
   ]
  },
  {
   "cell_type": "markdown",
   "metadata": {},
   "source": [
    "### Create two Jsons"
   ]
  },
  {
   "cell_type": "code",
   "execution_count": 10,
   "metadata": {},
   "outputs": [],
   "source": [
    "dict_genre_title_to_genre_id = map_genre_title_to_genre_id(genres_file)\n",
    "dict_track_id_to_parent_genre_title = map_track_id_to_parent_genre_title(tracks_file)"
   ]
  },
  {
   "cell_type": "markdown",
   "metadata": {},
   "source": [
    "###  Get Librosa Features for FMA Small"
   ]
  },
  {
   "cell_type": "code",
   "execution_count": 11,
   "metadata": {},
   "outputs": [],
   "source": [
    "def get_librosa_features_fma_small(librosa_file,fma_small_track_id_audio_path_file):\n",
    "    \n",
    "    librosa_data = pd.read_csv(librosa_file,delimiter=',',index_col=0,header=[0,1,2])\n",
    "    librosa_data = librosa_data.reset_index()\n",
    "    \n",
    "    fma_small_track_data = pd.read_csv(fma_small_track_id_audio_path_file,delimiter=',',header=0)\n",
    "    fma_small_track_data = fma_small_track_data.drop(['track_path'], axis=1)\n",
    "    \n",
    "    librosa_fma_small_data = librosa_data[librosa_data.track_id.isin(fma_small_track_data.track_id)]\n",
    "    \n",
    "    return librosa_fma_small_data"
   ]
  },
  {
   "cell_type": "code",
   "execution_count": 12,
   "metadata": {},
   "outputs": [],
   "source": [
    "librosa_fma_small_data = get_librosa_features_fma_small(librosa_file,fma_small_track_id_audio_path_file)"
   ]
  },
  {
   "cell_type": "markdown",
   "metadata": {},
   "source": [
    "### Get Parent Genre For Fma Small"
   ]
  },
  {
   "cell_type": "code",
   "execution_count": 13,
   "metadata": {},
   "outputs": [],
   "source": [
    "def get_parent_genre_title_id(librosa_fma_small_data):\n",
    "    fma_small_parent_genre_title_list = []\n",
    "    fma_small_parent_genre_id_list = []\n",
    "\n",
    "    # Get Parent Title\n",
    "    for id in librosa_fma_small_data['track_id']:\n",
    "        fma_small_parent_genre_title_list.append(dict_track_id_to_parent_genre_title[id])\n",
    "\n",
    "    librosa_fma_small_data['parent_genre_title'] = fma_small_parent_genre_title_list\n",
    "\n",
    "    #Get Parent Genre ID for Echonest\n",
    "    for genre_title in fma_small_parent_genre_title_list:\n",
    "        if pd.isnull(genre_title):\n",
    "            fma_small_parent_genre_id_list.append(np.nan)\n",
    "        else:\n",
    "            fma_small_parent_genre_id_list.append(dict_genre_title_to_genre_id[genre_title])\n",
    "\n",
    "    librosa_fma_small_data['parent_genre_id'] = fma_small_parent_genre_id_list\n",
    "    \n",
    "    return librosa_fma_small_data"
   ]
  },
  {
   "cell_type": "code",
   "execution_count": 14,
   "metadata": {},
   "outputs": [],
   "source": [
    "librosa_fma_small_data = get_parent_genre_title_id(librosa_fma_small_data)"
   ]
  },
  {
   "cell_type": "markdown",
   "metadata": {},
   "source": [
    "### Create FMA Small Labels"
   ]
  },
  {
   "cell_type": "code",
   "execution_count": 15,
   "metadata": {},
   "outputs": [],
   "source": [
    "def create_labels_fma_small_label(librosa_fma_small_data):\n",
    "    fma_small_labels = pd.DataFrame(columns=['track_id','parent_genre_id','parent_genre_title'])\n",
    "    \n",
    "    fma_small_labels['track_id']=librosa_fma_small_data['track_id']\n",
    "    fma_small_labels['parent_genre_title']=librosa_fma_small_data['parent_genre_title']\n",
    "    fma_small_labels['parent_genre_id']=librosa_fma_small_data['parent_genre_id']\n",
    "    \n",
    "    fma_small_labels.to_csv('./fma_small_labels.csv',index=False,sep=',')"
   ]
  },
  {
   "cell_type": "code",
   "execution_count": 16,
   "metadata": {},
   "outputs": [],
   "source": [
    "create_labels_fma_small_label(librosa_fma_small_data)\n",
    "librosa_fma_small_data.to_csv('./librosa_fma_small_data.csv',index=False,sep=',')"
   ]
  },
  {
   "cell_type": "code",
   "execution_count": 17,
   "metadata": {},
   "outputs": [
    {
     "name": "stdout",
     "output_type": "stream",
     "text": [
      "(8000, 521)\n"
     ]
    }
   ],
   "source": [
    "print librosa_fma_small_data.shape"
   ]
  },
  {
   "cell_type": "code",
   "execution_count": 18,
   "metadata": {},
   "outputs": [
    {
     "name": "stdout",
     "output_type": "stream",
     "text": [
      "feature    track_id chroma_cens                                          \\\n",
      "statistics             kurtosis                                           \n",
      "number                       01        02        03        04        05   \n",
      "0                 2    7.180653  5.230309  0.249321  1.347620  1.482478   \n",
      "2                 5    0.527563 -0.077654 -0.279610  0.685883  1.937570   \n",
      "3                10    3.702245 -0.291193  2.196742 -0.234449  1.367364   \n",
      "15              140    0.533579 -0.623885 -1.086205 -1.081079 -0.765151   \n",
      "16              141    0.172898 -0.284804 -1.169662 -1.062855 -0.706868   \n",
      "\n",
      "feature                                                  ...         tonnetz  \\\n",
      "statistics                                               ...             std   \n",
      "number            06        07        08        09       ...              06   \n",
      "0           0.531371  1.481593  2.691455  0.866868       ...        0.012111   \n",
      "2           0.880839 -0.923192 -0.927232  0.666617       ...        0.014759   \n",
      "3           0.998411  1.770694  1.604566  0.521217       ...        0.013921   \n",
      "15         -0.072282 -0.882913 -0.582376 -0.884749       ...        0.025946   \n",
      "16         -0.708281 -0.204884  0.023624 -0.642770       ...        0.032111   \n",
      "\n",
      "feature           zcr                                                    \\\n",
      "statistics   kurtosis       max      mean    median       min      skew   \n",
      "number             01        01        01        01        01        01   \n",
      "0            5.758890  0.459473  0.085629  0.071289  0.000000  2.089872   \n",
      "2            6.808415  0.375000  0.053114  0.041504  0.000000  2.193303   \n",
      "3           21.434212  0.452148  0.077515  0.071777  0.000000  3.542325   \n",
      "15          11.052547  0.379395  0.052379  0.036621  0.001953  3.143968   \n",
      "16          32.994659  0.415527  0.040267  0.034668  0.002930  4.204097   \n",
      "\n",
      "feature              parent_genre_title parent_genre_id  \n",
      "statistics       std                                     \n",
      "number            01                                     \n",
      "0           0.061448            Hip-Hop              21  \n",
      "2           0.044861            Hip-Hop              21  \n",
      "3           0.040800                Pop              10  \n",
      "15          0.057712               Folk              17  \n",
      "16          0.028665               Folk              17  \n",
      "\n",
      "[5 rows x 521 columns]\n"
     ]
    }
   ],
   "source": [
    "print librosa_fma_small_data.head()"
   ]
  },
  {
   "cell_type": "code",
   "execution_count": 90,
   "metadata": {},
   "outputs": [
    {
     "name": "stdout",
     "output_type": "stream",
     "text": [
      "0       2\n",
      "2       5\n",
      "3      10\n",
      "15    140\n",
      "16    141\n",
      "Name: track_id, dtype: int64\n"
     ]
    }
   ],
   "source": [
    "print librosa_fma_small_data['track_id'].head()"
   ]
  },
  {
   "cell_type": "code",
   "execution_count": 91,
   "metadata": {},
   "outputs": [
    {
     "name": "stdout",
     "output_type": "stream",
     "text": [
      "0     21\n",
      "2     21\n",
      "3     10\n",
      "15    17\n",
      "16    17\n",
      "Name: parent_genre_id, dtype: int64\n"
     ]
    }
   ],
   "source": [
    "print librosa_fma_small_data['parent_genre_id'].head()"
   ]
  },
  {
   "cell_type": "code",
   "execution_count": 92,
   "metadata": {},
   "outputs": [
    {
     "name": "stdout",
     "output_type": "stream",
     "text": [
      "0     Hip-Hop\n",
      "2     Hip-Hop\n",
      "3         Pop\n",
      "15       Folk\n",
      "16       Folk\n",
      "Name: parent_genre_title, dtype: object\n"
     ]
    }
   ],
   "source": [
    "print librosa_fma_small_data['parent_genre_title'].head()"
   ]
  },
  {
   "cell_type": "code",
   "execution_count": 20,
   "metadata": {},
   "outputs": [
    {
     "name": "stdout",
     "output_type": "stream",
     "text": [
      "statistics  kurtosis                                                    \\\n",
      "number            01        02        03        04        05        06   \n",
      "0           3.856789  1.541901  0.000816  0.330728  0.118731 -0.342687   \n",
      "2           2.624517  2.415293  0.440233 -0.782131 -0.771069 -0.724216   \n",
      "3           5.076893  1.161854  2.095651  1.372743 -0.203574 -0.345354   \n",
      "15          0.384906  1.203378  0.429393  0.639471 -0.080144 -0.440946   \n",
      "16         -0.038922  4.771146 -0.378949 -0.309047 -0.661308 -0.531602   \n",
      "\n",
      "statistics                                            ...           std  \\\n",
      "number            07        08        09        10    ...            11   \n",
      "0          -0.259252  0.146735  0.410656 -0.162872    ...     10.059609   \n",
      "2           0.090260  0.152119  0.261731 -0.608905    ...      8.863638   \n",
      "3          -0.529139  0.561974  0.281350 -0.150672    ...      8.289734   \n",
      "15         -0.432567 -0.126163  0.507695  0.408915    ...      9.883532   \n",
      "16          0.029186  0.662524 -0.084562  0.965640    ...      9.464321   \n",
      "\n",
      "statistics                                                              \\\n",
      "number            12        13        14        15        16        17   \n",
      "0           8.601942  9.284250  9.245516  8.520863  8.560472  7.651871   \n",
      "2           9.581952  8.895723  8.141456  8.201844  7.780963  7.132692   \n",
      "3           7.985110  7.075400  6.972649  7.071393  7.270959  7.051070   \n",
      "15          8.250456  8.085891  8.114858  8.832722  8.157245  7.297486   \n",
      "16          8.119837  8.918522  8.059117  9.339061  8.451561  8.426965   \n",
      "\n",
      "statistics                                \n",
      "number            18        19        20  \n",
      "0           7.246555  7.077188  7.391859  \n",
      "2           7.539753  8.452527  7.334442  \n",
      "3           6.928591  6.430473  6.186294  \n",
      "15          7.734456  7.807103  7.986255  \n",
      "16          8.341757  8.572934  9.351485  \n",
      "\n",
      "[5 rows x 140 columns]\n"
     ]
    }
   ],
   "source": [
    "print librosa_fma_small_data['mfcc'].head()"
   ]
  },
  {
   "cell_type": "code",
   "execution_count": 22,
   "metadata": {},
   "outputs": [
    {
     "name": "stdout",
     "output_type": "stream",
     "text": [
      "MultiIndex(levels=[[u'chroma_cens', u'chroma_cqt', u'chroma_stft', u'mfcc', u'rmse', u'spectral_bandwidth', u'spectral_centroid', u'spectral_contrast', u'spectral_rolloff', u'tonnetz', u'zcr', u'track_id', u'parent_genre_title', u'parent_genre_id'], [u'kurtosis', u'max', u'mean', u'median', u'min', u'skew', u'std', u''], [u'01', u'02', u'03', u'04', u'05', u'06', u'07', u'08', u'09', u'10', u'11', u'12', u'13', u'14', u'15', u'16', u'17', u'18', u'19', u'20', u'']],\n",
      "           labels=[[11, 0, 0, 0, 0, 0, 0, 0, 0, 0, 0, 0, 0, 0, 0, 0, 0, 0, 0, 0, 0, 0, 0, 0, 0, 0, 0, 0, 0, 0, 0, 0, 0, 0, 0, 0, 0, 0, 0, 0, 0, 0, 0, 0, 0, 0, 0, 0, 0, 0, 0, 0, 0, 0, 0, 0, 0, 0, 0, 0, 0, 0, 0, 0, 0, 0, 0, 0, 0, 0, 0, 0, 0, 0, 0, 0, 0, 0, 0, 0, 0, 0, 0, 0, 0, 1, 1, 1, 1, 1, 1, 1, 1, 1, 1, 1, 1, 1, 1, 1, 1, 1, 1, 1, 1, 1, 1, 1, 1, 1, 1, 1, 1, 1, 1, 1, 1, 1, 1, 1, 1, 1, 1, 1, 1, 1, 1, 1, 1, 1, 1, 1, 1, 1, 1, 1, 1, 1, 1, 1, 1, 1, 1, 1, 1, 1, 1, 1, 1, 1, 1, 1, 1, 1, 1, 1, 1, 1, 1, 1, 1, 1, 1, 1, 1, 1, 1, 1, 1, 2, 2, 2, 2, 2, 2, 2, 2, 2, 2, 2, 2, 2, 2, 2, 2, 2, 2, 2, 2, 2, 2, 2, 2, 2, 2, 2, 2, 2, 2, 2, 2, 2, 2, 2, 2, 2, 2, 2, 2, 2, 2, 2, 2, 2, 2, 2, 2, 2, 2, 2, 2, 2, 2, 2, 2, 2, 2, 2, 2, 2, 2, 2, 2, 2, 2, 2, 2, 2, 2, 2, 2, 2, 2, 2, 2, 2, 2, 2, 2, 2, 2, 2, 2, 3, 3, 3, 3, 3, 3, 3, 3, 3, 3, 3, 3, 3, 3, 3, 3, 3, 3, 3, 3, 3, 3, 3, 3, 3, 3, 3, 3, 3, 3, 3, 3, 3, 3, 3, 3, 3, 3, 3, 3, 3, 3, 3, 3, 3, 3, 3, 3, 3, 3, 3, 3, 3, 3, 3, 3, 3, 3, 3, 3, 3, 3, 3, 3, 3, 3, 3, 3, 3, 3, 3, 3, 3, 3, 3, 3, 3, 3, 3, 3, 3, 3, 3, 3, 3, 3, 3, 3, 3, 3, 3, 3, 3, 3, 3, 3, 3, 3, 3, 3, 3, 3, 3, 3, 3, 3, 3, 3, 3, 3, 3, 3, 3, 3, 3, 3, 3, 3, 3, 3, 3, 3, 3, 3, 3, 3, 3, 3, 3, 3, 3, 3, 3, 3, 3, 3, 3, 3, 3, 3, 4, 4, 4, 4, 4, 4, 4, 5, 5, 5, 5, 5, 5, 5, 6, 6, 6, 6, 6, 6, 6, 7, 7, 7, 7, 7, 7, 7, 7, 7, 7, 7, 7, 7, 7, 7, 7, 7, 7, 7, 7, 7, 7, 7, 7, 7, 7, 7, 7, 7, 7, 7, 7, 7, 7, 7, 7, 7, 7, 7, 7, 7, 7, 7, 7, 7, 7, 7, 7, 7, 8, 8, 8, 8, 8, 8, 8, 9, 9, 9, 9, 9, 9, 9, 9, 9, 9, 9, 9, 9, 9, 9, 9, 9, 9, 9, 9, 9, 9, 9, 9, 9, 9, 9, 9, 9, 9, 9, 9, 9, 9, 9, 9, 9, 9, 9, 9, 9, 9, 10, 10, 10, 10, 10, 10, 10, 12, 13], [7, 0, 0, 0, 0, 0, 0, 0, 0, 0, 0, 0, 0, 1, 1, 1, 1, 1, 1, 1, 1, 1, 1, 1, 1, 2, 2, 2, 2, 2, 2, 2, 2, 2, 2, 2, 2, 3, 3, 3, 3, 3, 3, 3, 3, 3, 3, 3, 3, 4, 4, 4, 4, 4, 4, 4, 4, 4, 4, 4, 4, 5, 5, 5, 5, 5, 5, 5, 5, 5, 5, 5, 5, 6, 6, 6, 6, 6, 6, 6, 6, 6, 6, 6, 6, 0, 0, 0, 0, 0, 0, 0, 0, 0, 0, 0, 0, 1, 1, 1, 1, 1, 1, 1, 1, 1, 1, 1, 1, 2, 2, 2, 2, 2, 2, 2, 2, 2, 2, 2, 2, 3, 3, 3, 3, 3, 3, 3, 3, 3, 3, 3, 3, 4, 4, 4, 4, 4, 4, 4, 4, 4, 4, 4, 4, 5, 5, 5, 5, 5, 5, 5, 5, 5, 5, 5, 5, 6, 6, 6, 6, 6, 6, 6, 6, 6, 6, 6, 6, 0, 0, 0, 0, 0, 0, 0, 0, 0, 0, 0, 0, 1, 1, 1, 1, 1, 1, 1, 1, 1, 1, 1, 1, 2, 2, 2, 2, 2, 2, 2, 2, 2, 2, 2, 2, 3, 3, 3, 3, 3, 3, 3, 3, 3, 3, 3, 3, 4, 4, 4, 4, 4, 4, 4, 4, 4, 4, 4, 4, 5, 5, 5, 5, 5, 5, 5, 5, 5, 5, 5, 5, 6, 6, 6, 6, 6, 6, 6, 6, 6, 6, 6, 6, 0, 0, 0, 0, 0, 0, 0, 0, 0, 0, 0, 0, 0, 0, 0, 0, 0, 0, 0, 0, 1, 1, 1, 1, 1, 1, 1, 1, 1, 1, 1, 1, 1, 1, 1, 1, 1, 1, 1, 1, 2, 2, 2, 2, 2, 2, 2, 2, 2, 2, 2, 2, 2, 2, 2, 2, 2, 2, 2, 2, 3, 3, 3, 3, 3, 3, 3, 3, 3, 3, 3, 3, 3, 3, 3, 3, 3, 3, 3, 3, 4, 4, 4, 4, 4, 4, 4, 4, 4, 4, 4, 4, 4, 4, 4, 4, 4, 4, 4, 4, 5, 5, 5, 5, 5, 5, 5, 5, 5, 5, 5, 5, 5, 5, 5, 5, 5, 5, 5, 5, 6, 6, 6, 6, 6, 6, 6, 6, 6, 6, 6, 6, 6, 6, 6, 6, 6, 6, 6, 6, 0, 1, 2, 3, 4, 5, 6, 0, 1, 2, 3, 4, 5, 6, 0, 1, 2, 3, 4, 5, 6, 0, 0, 0, 0, 0, 0, 0, 1, 1, 1, 1, 1, 1, 1, 2, 2, 2, 2, 2, 2, 2, 3, 3, 3, 3, 3, 3, 3, 4, 4, 4, 4, 4, 4, 4, 5, 5, 5, 5, 5, 5, 5, 6, 6, 6, 6, 6, 6, 6, 0, 1, 2, 3, 4, 5, 6, 0, 0, 0, 0, 0, 0, 1, 1, 1, 1, 1, 1, 2, 2, 2, 2, 2, 2, 3, 3, 3, 3, 3, 3, 4, 4, 4, 4, 4, 4, 5, 5, 5, 5, 5, 5, 6, 6, 6, 6, 6, 6, 0, 1, 2, 3, 4, 5, 6, 7, 7], [20, 0, 1, 2, 3, 4, 5, 6, 7, 8, 9, 10, 11, 0, 1, 2, 3, 4, 5, 6, 7, 8, 9, 10, 11, 0, 1, 2, 3, 4, 5, 6, 7, 8, 9, 10, 11, 0, 1, 2, 3, 4, 5, 6, 7, 8, 9, 10, 11, 0, 1, 2, 3, 4, 5, 6, 7, 8, 9, 10, 11, 0, 1, 2, 3, 4, 5, 6, 7, 8, 9, 10, 11, 0, 1, 2, 3, 4, 5, 6, 7, 8, 9, 10, 11, 0, 1, 2, 3, 4, 5, 6, 7, 8, 9, 10, 11, 0, 1, 2, 3, 4, 5, 6, 7, 8, 9, 10, 11, 0, 1, 2, 3, 4, 5, 6, 7, 8, 9, 10, 11, 0, 1, 2, 3, 4, 5, 6, 7, 8, 9, 10, 11, 0, 1, 2, 3, 4, 5, 6, 7, 8, 9, 10, 11, 0, 1, 2, 3, 4, 5, 6, 7, 8, 9, 10, 11, 0, 1, 2, 3, 4, 5, 6, 7, 8, 9, 10, 11, 0, 1, 2, 3, 4, 5, 6, 7, 8, 9, 10, 11, 0, 1, 2, 3, 4, 5, 6, 7, 8, 9, 10, 11, 0, 1, 2, 3, 4, 5, 6, 7, 8, 9, 10, 11, 0, 1, 2, 3, 4, 5, 6, 7, 8, 9, 10, 11, 0, 1, 2, 3, 4, 5, 6, 7, 8, 9, 10, 11, 0, 1, 2, 3, 4, 5, 6, 7, 8, 9, 10, 11, 0, 1, 2, 3, 4, 5, 6, 7, 8, 9, 10, 11, 0, 1, 2, 3, 4, 5, 6, 7, 8, 9, 10, 11, 12, 13, 14, 15, 16, 17, 18, 19, 0, 1, 2, 3, 4, 5, 6, 7, 8, 9, 10, 11, 12, 13, 14, 15, 16, 17, 18, 19, 0, 1, 2, 3, 4, 5, 6, 7, 8, 9, 10, 11, 12, 13, 14, 15, 16, 17, 18, 19, 0, 1, 2, 3, 4, 5, 6, 7, 8, 9, 10, 11, 12, 13, 14, 15, 16, 17, 18, 19, 0, 1, 2, 3, 4, 5, 6, 7, 8, 9, 10, 11, 12, 13, 14, 15, 16, 17, 18, 19, 0, 1, 2, 3, 4, 5, 6, 7, 8, 9, 10, 11, 12, 13, 14, 15, 16, 17, 18, 19, 0, 1, 2, 3, 4, 5, 6, 7, 8, 9, 10, 11, 12, 13, 14, 15, 16, 17, 18, 19, 0, 0, 0, 0, 0, 0, 0, 0, 0, 0, 0, 0, 0, 0, 0, 0, 0, 0, 0, 0, 0, 0, 1, 2, 3, 4, 5, 6, 0, 1, 2, 3, 4, 5, 6, 0, 1, 2, 3, 4, 5, 6, 0, 1, 2, 3, 4, 5, 6, 0, 1, 2, 3, 4, 5, 6, 0, 1, 2, 3, 4, 5, 6, 0, 1, 2, 3, 4, 5, 6, 0, 0, 0, 0, 0, 0, 0, 0, 1, 2, 3, 4, 5, 0, 1, 2, 3, 4, 5, 0, 1, 2, 3, 4, 5, 0, 1, 2, 3, 4, 5, 0, 1, 2, 3, 4, 5, 0, 1, 2, 3, 4, 5, 0, 1, 2, 3, 4, 5, 0, 0, 0, 0, 0, 0, 0, 20, 20]],\n",
      "           names=[u'feature', u'statistics', u'number'])\n"
     ]
    }
   ],
   "source": [
    "print librosa_fma_small_data.columns"
   ]
  },
  {
   "cell_type": "code",
   "execution_count": null,
   "metadata": {},
   "outputs": [],
   "source": []
  }
 ],
 "metadata": {
  "kernelspec": {
   "display_name": "Python 2",
   "language": "python",
   "name": "python2"
  },
  "language_info": {
   "codemirror_mode": {
    "name": "ipython",
    "version": 2
   },
   "file_extension": ".py",
   "mimetype": "text/x-python",
   "name": "python",
   "nbconvert_exporter": "python",
   "pygments_lexer": "ipython2",
   "version": "2.7.15"
  }
 },
 "nbformat": 4,
 "nbformat_minor": 2
}
