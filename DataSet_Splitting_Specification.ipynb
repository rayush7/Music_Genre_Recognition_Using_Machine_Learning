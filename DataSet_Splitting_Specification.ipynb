{
 "cells": [
  {
   "cell_type": "code",
   "execution_count": 2,
   "metadata": {},
   "outputs": [],
   "source": [
    "import pandas as pd\n",
    "import numpy as np\n",
    "import sys\n",
    "from sklearn.model_selection import train_test_split"
   ]
  },
  {
   "cell_type": "code",
   "execution_count": 3,
   "metadata": {},
   "outputs": [
    {
     "data": {
      "text/plain": [
       "Index([u'track_id', u'parent_genre_id', u'parent_genre_title'], dtype='object')"
      ]
     },
     "execution_count": 3,
     "metadata": {},
     "output_type": "execute_result"
    }
   ],
   "source": [
    "fma_small_label_dataset = pd.read_csv('./fma_small_labels.csv',sep=',',header=0)\n",
    "fma_small_label_dataset.isnull().values.any()\n",
    "\n",
    "fma_small_label_dataset.columns"
   ]
  },
  {
   "cell_type": "code",
   "execution_count": 4,
   "metadata": {},
   "outputs": [],
   "source": [
    "#Data Splitting\n",
    "def apply_data_split_preprocessing(raw_dataset,labels):\n",
    "\n",
    "    # Perform Train, Validation, Test Split\n",
    "    X_train, X_test, y_train, y_test = train_test_split(raw_dataset,labels,test_size=0.10,random_state=42,stratify=labels)\n",
    "    \n",
    "    X_train, X_val, y_train, y_val = train_test_split(X_train,y_train,test_size=0.10,random_state=30,stratify=y_train)\n",
    "\n",
    "    return X_train, X_val, X_test ,y_train, y_val ,y_test"
   ]
  },
  {
   "cell_type": "code",
   "execution_count": 5,
   "metadata": {},
   "outputs": [],
   "source": [
    "fma_small_parent_genre_id = fma_small_label_dataset['parent_genre_id']\n",
    "\n",
    "fma_small_label_dataset = fma_small_label_dataset.drop(['parent_genre_title','parent_genre_id'],axis=1)\n",
    "\n",
    "fma_small_label_dataset = fma_small_label_dataset.values\n",
    "\n",
    "X_train, X_val ,X_test, y_train, y_val ,y_test = apply_data_split_preprocessing(fma_small_label_dataset,fma_small_parent_genre_id)"
   ]
  },
  {
   "cell_type": "code",
   "execution_count": 6,
   "metadata": {},
   "outputs": [
    {
     "name": "stdout",
     "output_type": "stream",
     "text": [
      "(6480, 1)\n",
      "(720, 1)\n",
      "(800, 1)\n"
     ]
    }
   ],
   "source": [
    "print X_train.shape\n",
    "print X_val.shape\n",
    "print X_test.shape\n",
    "\n",
    "X_train = X_train.astype(int)\n",
    "X_val = X_val.astype(int)\n",
    "X_test = X_test.astype(int)"
   ]
  },
  {
   "cell_type": "code",
   "execution_count": 7,
   "metadata": {},
   "outputs": [],
   "source": [
    "np.savetxt(\"fma_small_train_track_ids.csv\",X_train, fmt='%i')\n",
    "np.savetxt(\"fma_small_val_track_ids.csv\", X_val, fmt='%i')\n",
    "np.savetxt(\"fma_small_test_track_ids.csv\", X_test, fmt='%i')"
   ]
  },
  {
   "cell_type": "code",
   "execution_count": 8,
   "metadata": {},
   "outputs": [
    {
     "name": "stdout",
     "output_type": "stream",
     "text": [
      "3227      15\n",
      "4478      12\n",
      "163       12\n",
      "605       17\n",
      "2780      38\n",
      "3911    1235\n",
      "6643    1235\n",
      "977       21\n",
      "2989      38\n",
      "2391      17\n",
      "433       17\n",
      "748       38\n",
      "1658      38\n",
      "4079      10\n",
      "3938      10\n",
      "5747      17\n",
      "7695    1235\n",
      "5713      38\n",
      "6776      17\n",
      "2248       2\n",
      "2625       2\n",
      "2256       2\n",
      "2101      10\n",
      "5375    1235\n",
      "1001       2\n",
      "3083      17\n",
      "6996      12\n",
      "6077      12\n",
      "7608      21\n",
      "12        17\n",
      "        ... \n",
      "4568      15\n",
      "7865      10\n",
      "1669       2\n",
      "4189      17\n",
      "3559      21\n",
      "6587      12\n",
      "7706      17\n",
      "3631    1235\n",
      "5627    1235\n",
      "3451    1235\n",
      "6325    1235\n",
      "1561      12\n",
      "6316      38\n",
      "3956      15\n",
      "3158      21\n",
      "7071      15\n",
      "5035    1235\n",
      "6028    1235\n",
      "2270      12\n",
      "4547    1235\n",
      "1795      38\n",
      "4153      17\n",
      "7577      38\n",
      "6446    1235\n",
      "2620       2\n",
      "2494      38\n",
      "1595    1235\n",
      "7521      17\n",
      "702     1235\n",
      "3221      15\n",
      "Name: parent_genre_id, Length: 800, dtype: int64\n"
     ]
    }
   ],
   "source": [
    "print y_test"
   ]
  },
  {
   "cell_type": "code",
   "execution_count": null,
   "metadata": {},
   "outputs": [],
   "source": []
  }
 ],
 "metadata": {
  "kernelspec": {
   "display_name": "Python 2",
   "language": "python",
   "name": "python2"
  },
  "language_info": {
   "codemirror_mode": {
    "name": "ipython",
    "version": 2
   },
   "file_extension": ".py",
   "mimetype": "text/x-python",
   "name": "python",
   "nbconvert_exporter": "python",
   "pygments_lexer": "ipython2",
   "version": "2.7.15"
  }
 },
 "nbformat": 4,
 "nbformat_minor": 2
}
